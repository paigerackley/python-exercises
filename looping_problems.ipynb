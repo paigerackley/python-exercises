{
 "cells": [
  {
   "cell_type": "code",
   "execution_count": 3,
   "id": "5b49fc4d",
   "metadata": {},
   "outputs": [],
   "source": [
    "students = [\n",
    "    {\n",
    "        \"id\": \"100001\",\n",
    "        \"student\": \"Ada Lovelace\",\n",
    "        \"coffee_preference\": \"light\",\n",
    "        \"course\": \"web development\",\n",
    "        \"grades\": [70, 91, 82, 71],\n",
    "        \"pets\": [{\"species\": \"horse\", \"age\": 8}],\n",
    "    },\n",
    "    {\n",
    "        \"id\": \"100002\",\n",
    "        \"student\": \"Thomas Bayes\",\n",
    "        \"coffee_preference\": \"medium\",\n",
    "        \"course\": \"data science\",\n",
    "        \"grades\": [75, 73, 86, 100],\n",
    "        \"pets\": [],\n",
    "    },\n",
    "    {\n",
    "        \"id\": \"100003\",\n",
    "        \"student\": \"Marie Curie\",\n",
    "        \"coffee_preference\": \"light\",\n",
    "        \"course\": \"web development\",\n",
    "        \"grades\": [70, 89, 69, 65],\n",
    "        \"pets\": [{\"species\": \"cat\", \"age\": 0}],\n",
    "    },\n",
    "    {\n",
    "        \"id\": \"100004\",\n",
    "        \"student\": \"Grace Hopper\",\n",
    "        \"coffee_preference\": \"dark\",\n",
    "        \"course\": \"data science\",\n",
    "        \"grades\": [73, 66, 83, 92],\n",
    "        \"pets\": [{\"species\": \"dog\", \"age\": 4}, {\"species\": \"cat\", \"age\": 4}],\n",
    "    },\n",
    "    {\n",
    "        \"id\": \"100005\",\n",
    "        \"student\": \"Alan Turing\",\n",
    "        \"coffee_preference\": \"dark\",\n",
    "        \"course\": \"web development\",\n",
    "        \"grades\": [78, 98, 85, 65],\n",
    "        \"pets\": [\n",
    "            {\"species\": \"horse\", \"age\": 6},\n",
    "            {\"species\": \"horse\", \"age\": 7},\n",
    "            {\"species\": \"dog\", \"age\": 5},\n",
    "        ],\n",
    "    },\n",
    "    {\n",
    "        \"id\": \"100006\",\n",
    "        \"student\": \"Rosalind Franklin\",\n",
    "        \"coffee_preference\": \"dark\",\n",
    "        \"course\": \"data science\",\n",
    "        \"grades\": [76, 70, 96, 81],\n",
    "        \"pets\": [],\n",
    "    },\n",
    "    {\n",
    "        \"id\": \"100007\",\n",
    "        \"student\": \"Elizabeth Blackwell\",\n",
    "        \"coffee_preference\": \"dark\",\n",
    "        \"course\": \"web development\",\n",
    "        \"grades\": [69, 94, 89, 86],\n",
    "        \"pets\": [{\"species\": \"cat\", \"age\": 10}],\n",
    "    },\n",
    "    {\n",
    "        \"id\": \"100008\",\n",
    "        \"student\": \"Rene Descartes\",\n",
    "        \"coffee_preference\": \"medium\",\n",
    "        \"course\": \"data science\",\n",
    "        \"grades\": [87, 79, 90, 99],\n",
    "        \"pets\": [{\"species\": \"cat\", \"age\": 10}, {\"species\": \"cat\", \"age\": 8}],\n",
    "    },\n",
    "    {\n",
    "        \"id\": \"100009\",\n",
    "        \"student\": \"Ahmed Zewail\",\n",
    "        \"coffee_preference\": \"medium\",\n",
    "        \"course\": \"data science\",\n",
    "        \"grades\": [74, 99, 93, 89],\n",
    "        \"pets\": [{\"species\": \"cat\", \"age\": 0}, {\"species\": \"cat\", \"age\": 0}],\n",
    "    },\n",
    "    {\n",
    "        \"id\": \"100010\",\n",
    "        \"student\": \"Chien-Shiung Wu\",\n",
    "        \"coffee_preference\": \"medium\",\n",
    "        \"course\": \"web development\",\n",
    "        \"grades\": [82, 92, 91, 65],\n",
    "        \"pets\": [{\"species\": \"cat\", \"age\": 8}],\n",
    "    },\n",
    "    {\n",
    "        \"id\": \"100011\",\n",
    "        \"student\": \"William Sanford Nye\",\n",
    "        \"coffee_preference\": \"dark\",\n",
    "        \"course\": \"data science\",\n",
    "        \"grades\": [70, 92, 65, 99],\n",
    "        \"pets\": [{\"species\": \"cat\", \"age\": 8}, {\"species\": \"cat\", \"age\": 5}],\n",
    "    },\n",
    "    {\n",
    "        \"id\": \"100012\",\n",
    "        \"student\": \"Carl Sagan\",\n",
    "        \"coffee_preference\": \"medium\",\n",
    "        \"course\": \"data science\",\n",
    "        \"grades\": [100, 86, 91, 87],\n",
    "        \"pets\": [{\"species\": \"cat\", \"age\": 10}],\n",
    "    },\n",
    "    {\n",
    "        \"id\": \"100013\",\n",
    "        \"student\": \"Jane Goodall\",\n",
    "        \"coffee_preference\": \"light\",\n",
    "        \"course\": \"web development\",\n",
    "        \"grades\": [80, 70, 68, 98],\n",
    "        \"pets\": [{\"species\": \"horse\", \"age\": 4}],\n",
    "    },\n",
    "    {\n",
    "        \"id\": \"100014\",\n",
    "        \"student\": \"Richard Feynman\",\n",
    "        \"coffee_preference\": \"medium\",\n",
    "        \"course\": \"web development\",\n",
    "        \"grades\": [73, 99, 86, 98],\n",
    "        \"pets\": [{\"species\": \"dog\", \"age\": 6}],\n",
    "    },\n",
    "]"
   ]
  },
  {
   "cell_type": "code",
   "execution_count": 4,
   "id": "068aa25f",
   "metadata": {},
   "outputs": [
    {
     "data": {
      "text/plain": [
       "14"
      ]
     },
     "execution_count": 4,
     "metadata": {},
     "output_type": "execute_result"
    }
   ],
   "source": [
    "# 1. How many students are there? \n",
    "len(students)"
   ]
  },
  {
   "cell_type": "code",
   "execution_count": 5,
   "id": "16951816",
   "metadata": {},
   "outputs": [
    {
     "data": {
      "text/plain": [
       "3"
      ]
     },
     "execution_count": 5,
     "metadata": {},
     "output_type": "execute_result"
    }
   ],
   "source": [
    "# 2. How many students prefer light coffee? For each type of coffee roast?\n",
    "light_coffee_drinkers = 0\n",
    "\n",
    "for student in students:\n",
    "    if student['coffee_preference'] == 'light':\n",
    "        light_coffee_drinkers += 1\n",
    "        \n",
    "        \n",
    "light_coffee_drinkers"
   ]
  },
  {
   "cell_type": "code",
   "execution_count": 30,
   "id": "98b12a72",
   "metadata": {},
   "outputs": [
    {
     "data": {
      "text/plain": [
       "{'light': 3, 'medium': 6, 'dark': 5}"
      ]
     },
     "execution_count": 30,
     "metadata": {},
     "output_type": "execute_result"
    }
   ],
   "source": [
    "# 2 part 2\n",
    "# For each type of coffee roast?\n",
    "roasts = {}\n",
    "\n",
    "\n",
    "\n",
    "for student in students:\n",
    "    preference = student['coffee_preference']\n",
    "    if preference in roasts.keys():\n",
    "        roasts[preference] += 1\n",
    "    else:\n",
    "        roasts[preference] = 1\n",
    "        \n",
    "roasts"
   ]
  },
  {
   "cell_type": "code",
   "execution_count": 28,
   "id": "3941a718",
   "metadata": {},
   "outputs": [
    {
     "data": {
      "text/plain": [
       "{'horse': 4, 'cat': 11, 'dog': 3}"
      ]
     },
     "execution_count": 28,
     "metadata": {},
     "output_type": "execute_result"
    }
   ],
   "source": [
    "# 3. \n",
    "pet_species_counts = {}\n",
    "\n",
    "for pet in pets:\n",
    "    if pet in pet_species_counts.keys():\n",
    "        pet_species_counts[pet] += 1\n",
    "    else:\n",
    "        pet_species_counts[pet] = 1\n",
    "    \n",
    "pet_species_counts "
   ]
  },
  {
   "cell_type": "code",
   "execution_count": 50,
   "id": "b06ec198",
   "metadata": {},
   "outputs": [
    {
     "data": {
      "text/plain": [
       "[4, 4, 4, 4, 4, 4, 4, 4, 4, 4, 4, 4, 4, 4]"
      ]
     },
     "execution_count": 50,
     "metadata": {},
     "output_type": "execute_result"
    }
   ],
   "source": [
    "# 4. How many grades does each student have? \n",
    "# Do they all have the same number of grades?\n",
    "student_grades = []\n",
    "\n",
    "# len(students[0]['key'])\n",
    "\n",
    "for student in students:\n",
    "    student_grades.append(len(student['grades']))\n",
    "    \n",
    "student_grades"
   ]
  },
  {
   "cell_type": "code",
   "execution_count": 105,
   "id": "9adaf29a",
   "metadata": {},
   "outputs": [
    {
     "data": {
      "text/plain": [
       "[78.5,\n",
       " 83.5,\n",
       " 73.25,\n",
       " 78.5,\n",
       " 81.5,\n",
       " 80.75,\n",
       " 84.5,\n",
       " 88.75,\n",
       " 88.75,\n",
       " 82.5,\n",
       " 81.5,\n",
       " 91,\n",
       " 79,\n",
       " 89]"
      ]
     },
     "execution_count": 105,
     "metadata": {},
     "output_type": "execute_result"
    }
   ],
   "source": [
    "# 5 What is each student's grade average?\n",
    "import statistics\n",
    "\n",
    "student_grades = []\n",
    "\n",
    "for student in students:\n",
    "    stu_grades = student['grades']\n",
    "    stu_mean = mean(stu_grades)\n",
    "    student_grades.append(stu_mean)\n",
    "    \n",
    "student_grades"
   ]
  },
  {
   "cell_type": "code",
   "execution_count": 64,
   "id": "1268d1da",
   "metadata": {},
   "outputs": [
    {
     "data": {
      "text/plain": [
       "[1, 0, 1, 2, 3, 0, 1, 2, 2, 1, 2, 1, 1, 1]"
      ]
     },
     "execution_count": 64,
     "metadata": {},
     "output_type": "execute_result"
    }
   ],
   "source": [
    "# 6 How many pets does each student have?\n",
    "number_pets = []\n",
    "\n",
    "for student in students:\n",
    "    num_pets = len(student['pets'])\n",
    "    number_pets.append(num_pets)\n",
    "\n",
    "\n",
    "number_pets"
   ]
  },
  {
   "cell_type": "code",
   "execution_count": 69,
   "id": "8211ebbb",
   "metadata": {},
   "outputs": [
    {
     "data": {
      "text/plain": [
       "{'web development': 7, 'data science': 7}"
      ]
     },
     "execution_count": 69,
     "metadata": {},
     "output_type": "execute_result"
    }
   ],
   "source": [
    "# 7 How many students are in web development? data science?\n",
    "student_course = {}\n",
    "# students[0]['course']\n",
    "\n",
    "for student in students:\n",
    "    stu_course = student['course']\n",
    "    if stu_course in student_course.keys():\n",
    "        student_course[stu_course] +=1\n",
    "    else:\n",
    "        student_course[stu_course] = 1       \n",
    "\n",
    "student_course\n",
    "\n",
    "\n"
   ]
  },
  {
   "cell_type": "code",
   "execution_count": 79,
   "id": "473c0ca3",
   "metadata": {},
   "outputs": [
    {
     "data": {
      "text/plain": [
       "1.2857142857142858"
      ]
     },
     "execution_count": 79,
     "metadata": {},
     "output_type": "execute_result"
    }
   ],
   "source": [
    "#8 What is the average number of pets for students in web \n",
    "# development?\n",
    "num_pets_web = []\n",
    "\n",
    "\n",
    "for student in students:\n",
    "    stu_course = student['course']\n",
    "    if stu_course == 'web development':\n",
    "        num_pets = len(student['pets'])\n",
    "        num_pets_web.append(num_pets)\n",
    "\n",
    "\n",
    "        \n",
    "mean(num_pets_web)\n"
   ]
  },
  {
   "cell_type": "code",
   "execution_count": 101,
   "id": "db6f2f6e",
   "metadata": {},
   "outputs": [
    {
     "data": {
      "text/plain": [
       "6.4"
      ]
     },
     "execution_count": 101,
     "metadata": {},
     "output_type": "execute_result"
    }
   ],
   "source": [
    "# 9. What is the average pet age for students in data science?\n",
    "age_pets_data = []\n",
    "\n",
    "for student in students:\n",
    "    stu_course = student['course']\n",
    "    if stu_course == 'data science' and student['pets'] != []:\n",
    "        stu_pet = student['pets'][0]['age']\n",
    "        age_pets_data.append(stu_pet)\n",
    "\n",
    "# stu_pet = students[0]['pets'][0]['age']\n",
    "# stu_pet = students[0]['pets']\n",
    "# stu_pet[0]['age']\n",
    "mean(age_pets_data)"
   ]
  },
  {
   "cell_type": "code",
   "execution_count": 109,
   "id": "495e0ba8",
   "metadata": {},
   "outputs": [
    {
     "data": {
      "text/plain": [
       "'medium'"
      ]
     },
     "execution_count": 109,
     "metadata": {},
     "output_type": "execute_result"
    }
   ],
   "source": [
    "# 10 What is most frequent coffee preference for data science \n",
    "# students?\n",
    "\n",
    "# make empty list\n",
    "coffee_pref_data = []\n",
    "\n",
    "# make a list of all the coffee preferences \n",
    "for student in students:\n",
    "    cof_pref = student['coffee_preference']\n",
    "    stu_course = student['course']\n",
    "    if stu_course == 'data science':\n",
    "        coffee_pref_data.append(cof_pref)\n",
    "\n",
    "\n",
    "# run mode function over list\n",
    "\n",
    "statistics.mode(coffee_pref_data)\n"
   ]
  },
  {
   "cell_type": "code",
   "execution_count": null,
   "id": "cae9e131",
   "metadata": {},
   "outputs": [],
   "source": []
  }
 ],
 "metadata": {
  "kernelspec": {
   "display_name": "Python 3 (ipykernel)",
   "language": "python",
   "name": "python3"
  },
  "language_info": {
   "codemirror_mode": {
    "name": "ipython",
    "version": 3
   },
   "file_extension": ".py",
   "mimetype": "text/x-python",
   "name": "python",
   "nbconvert_exporter": "python",
   "pygments_lexer": "ipython3",
   "version": "3.9.7"
  }
 },
 "nbformat": 4,
 "nbformat_minor": 5
}
