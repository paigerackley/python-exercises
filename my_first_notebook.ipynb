{
 "cells": [
  {
   "cell_type": "markdown",
   "id": "ce7d29f1",
   "metadata": {},
   "source": [
    "# Markdown"
   ]
  },
  {
   "cell_type": "code",
   "execution_count": 2,
   "id": "894b71db",
   "metadata": {},
   "outputs": [
    {
     "name": "stdout",
     "output_type": "stream",
     "text": [
      "Hi Everybody!\n"
     ]
    }
   ],
   "source": [
    "greeting = 'Hi Everybody!'\n",
    "print(greeting)"
   ]
  },
  {
   "cell_type": "code",
   "execution_count": 1,
   "id": "34a47895",
   "metadata": {},
   "outputs": [
    {
     "data": {
      "text/plain": [
       "15"
      ]
     },
     "execution_count": 1,
     "metadata": {},
     "output_type": "execute_result"
    }
   ],
   "source": [
    "3 * 5"
   ]
  },
  {
   "cell_type": "code",
   "execution_count": null,
   "id": "028ab5f9",
   "metadata": {},
   "outputs": [],
   "source": [
    "# Parentheses mean were running a function"
   ]
  },
  {
   "cell_type": "code",
   "execution_count": 1,
   "id": "a27e01a9",
   "metadata": {},
   "outputs": [
    {
     "data": {
      "text/plain": [
       "['John', 'Paul', 'George', 'Ringo']"
      ]
     },
     "execution_count": 1,
     "metadata": {},
     "output_type": "execute_result"
    }
   ],
   "source": [
    "# List literal\n",
    "beatles = [\"John\", \"Paul\", \"George\", \"Ringo\"]\n",
    "beatles"
   ]
  },
  {
   "cell_type": "markdown",
   "id": "f49f15ad",
   "metadata": {},
   "source": [
    "# Variables\n",
    "- Whats the big idea?\n",
    "- Naming things is powerful\n",
    "- Variables point to values and can be re-pointed to other values\n",
    "\n",
    "- NEW valued variable = old value + something new\n",
    "- Example: \n"
   ]
  },
  {
   "cell_type": "code",
   "execution_count": 9,
   "id": "edad0561",
   "metadata": {},
   "outputs": [
    {
     "data": {
      "text/plain": [
       "7.98"
      ]
     },
     "execution_count": 9,
     "metadata": {},
     "output_type": "execute_result"
    }
   ],
   "source": [
    "total = 0\n",
    "total = total + 1.99\n",
    "total = total + 5.99\n",
    "total"
   ]
  },
  {
   "cell_type": "code",
   "execution_count": 10,
   "id": "99b2ec12",
   "metadata": {},
   "outputs": [
    {
     "data": {
      "text/plain": [
       "True"
      ]
     },
     "execution_count": 10,
     "metadata": {},
     "output_type": "execute_result"
    }
   ],
   "source": [
    "## Booleans (True/False)\n",
    "total < 20"
   ]
  },
  {
   "cell_type": "code",
   "execution_count": 11,
   "id": "9633d77b",
   "metadata": {},
   "outputs": [
    {
     "data": {
      "text/plain": [
       "True"
      ]
     },
     "execution_count": 11,
     "metadata": {},
     "output_type": "execute_result"
    }
   ],
   "source": [
    "# != is not equal to\n",
    "2 != 3"
   ]
  },
  {
   "cell_type": "code",
   "execution_count": 13,
   "id": "860ec2f8",
   "metadata": {},
   "outputs": [
    {
     "data": {
      "text/plain": [
       "True"
      ]
     },
     "execution_count": 13,
     "metadata": {},
     "output_type": "execute_result"
    }
   ],
   "source": [
    "# In operator checks membership of the value on the left\n",
    "# in the collection on the right\n",
    "# collection could be a string, list, tuple, ...\n",
    "2 in [1, 2, 3, 4]"
   ]
  },
  {
   "cell_type": "code",
   "execution_count": 15,
   "id": "9c418d7c",
   "metadata": {},
   "outputs": [
    {
     "data": {
      "text/plain": [
       "True"
      ]
     },
     "execution_count": 15,
     "metadata": {},
     "output_type": "execute_result"
    }
   ],
   "source": [
    "\"a\" in \"banana\""
   ]
  },
  {
   "cell_type": "markdown",
   "id": "e8dc9dfb",
   "metadata": {},
   "source": [
    "## Logical Operators\n",
    "- not: switches the boolean values of a value\n",
    "- and: making sure both pieces are true\n",
    "- or: making sure at least on pieces is true\n",
    "    \n"
   ]
  },
  {
   "cell_type": "code",
   "execution_count": 17,
   "id": "0a1de1dc",
   "metadata": {},
   "outputs": [],
   "source": [
    "doing_python_right_now = True\n",
    "currently_on_mars = False"
   ]
  },
  {
   "cell_type": "code",
   "execution_count": 18,
   "id": "6aa3f59a",
   "metadata": {},
   "outputs": [
    {
     "data": {
      "text/plain": [
       "False"
      ]
     },
     "execution_count": 18,
     "metadata": {},
     "output_type": "execute_result"
    }
   ],
   "source": [
    "# Ands are limiting\n",
    "doing_python_right_now and currently_on_mars"
   ]
  },
  {
   "cell_type": "code",
   "execution_count": 19,
   "id": "4f8f2f78",
   "metadata": {},
   "outputs": [
    {
     "data": {
      "text/plain": [
       "True"
      ]
     },
     "execution_count": 19,
     "metadata": {},
     "output_type": "execute_result"
    }
   ],
   "source": [
    "#ORS expand our possibilities\n",
    "doing_python_right_now or currently_on_mars"
   ]
  },
  {
   "cell_type": "code",
   "execution_count": 20,
   "id": "d78b6718",
   "metadata": {},
   "outputs": [],
   "source": [
    "# When we combione and,or, not, (but == and not)\n",
    "# We want to use parentheses to enforce execution order"
   ]
  },
  {
   "cell_type": "code",
   "execution_count": 23,
   "id": "aa686629",
   "metadata": {},
   "outputs": [
    {
     "data": {
      "text/plain": [
       "True"
      ]
     },
     "execution_count": 23,
     "metadata": {},
     "output_type": "execute_result"
    }
   ],
   "source": [
    "# A user can edit a post if they are logged in and either the admin\n",
    "# or author of that post\n",
    "is_logged_in = True\n",
    "is_admin = False\n",
    "is_author = True\n",
    "\n",
    "can_edit_post = is_logged_in and (is_admin or is_author)\n",
    "can_edit_post"
   ]
  },
  {
   "cell_type": "code",
   "execution_count": null,
   "id": "deccb5ea",
   "metadata": {},
   "outputs": [],
   "source": [
    "# Mathemaical Operators\n",
    "# T, -, *, /, **"
   ]
  },
  {
   "cell_type": "code",
   "execution_count": 24,
   "id": "b959fbd8",
   "metadata": {},
   "outputs": [
    {
     "data": {
      "text/plain": [
       "8"
      ]
     },
     "execution_count": 24,
     "metadata": {},
     "output_type": "execute_result"
    }
   ],
   "source": [
    "2 ** 3 # two raised to the 3rd power"
   ]
  },
  {
   "cell_type": "code",
   "execution_count": 25,
   "id": "1d90b967",
   "metadata": {},
   "outputs": [
    {
     "data": {
      "text/plain": [
       "4.0"
      ]
     },
     "execution_count": 25,
     "metadata": {},
     "output_type": "execute_result"
    }
   ],
   "source": [
    "12 / 3"
   ]
  },
  {
   "cell_type": "code",
   "execution_count": 27,
   "id": "dafef8ce",
   "metadata": {},
   "outputs": [
    {
     "data": {
      "text/plain": [
       "False"
      ]
     },
     "execution_count": 27,
     "metadata": {},
     "output_type": "execute_result"
    }
   ],
   "source": [
    "4 == 4.0000001"
   ]
  },
  {
   "cell_type": "code",
   "execution_count": 30,
   "id": "fe1404be",
   "metadata": {},
   "outputs": [
    {
     "data": {
      "text/plain": [
       "1"
      ]
     },
     "execution_count": 30,
     "metadata": {},
     "output_type": "execute_result"
    }
   ],
   "source": [
    "# Modulo Operator == remainder operator\n",
    "# 5 % 2 should read as five divded by 2 leaves what value?\n",
    "5 % 2"
   ]
  },
  {
   "cell_type": "code",
   "execution_count": 31,
   "id": "36ff0658",
   "metadata": {},
   "outputs": [
    {
     "data": {
      "text/plain": [
       "True"
      ]
     },
     "execution_count": 31,
     "metadata": {},
     "output_type": "execute_result"
    }
   ],
   "source": [
    "# first_name % second_number == has no remainder means:\n",
    "# the furstnumber is evenly divisible by the second number\n",
    "4 % 2 == 0"
   ]
  },
  {
   "cell_type": "code",
   "execution_count": 32,
   "id": "9fb8bf8a",
   "metadata": {},
   "outputs": [
    {
     "data": {
      "text/plain": [
       "1"
      ]
     },
     "execution_count": 32,
     "metadata": {},
     "output_type": "execute_result"
    }
   ],
   "source": [
    "## // quotient\n",
    "# two goes into 3 one full time\n",
    "3 // 2 "
   ]
  },
  {
   "cell_type": "code",
   "execution_count": 34,
   "id": "67f92f8f",
   "metadata": {},
   "outputs": [
    {
     "data": {
      "text/plain": [
       "1"
      ]
     },
     "execution_count": 34,
     "metadata": {},
     "output_type": "execute_result"
    }
   ],
   "source": [
    "# 3 divided by two leaves 1 as the remainder\n",
    "3 % 2"
   ]
  },
  {
   "cell_type": "code",
   "execution_count": 35,
   "id": "9e697f09",
   "metadata": {},
   "outputs": [
    {
     "data": {
      "text/plain": [
       "1.0"
      ]
     },
     "execution_count": 35,
     "metadata": {},
     "output_type": "execute_result"
    }
   ],
   "source": [
    "3.33 // 2"
   ]
  },
  {
   "cell_type": "markdown",
   "id": "cb1544a1",
   "metadata": {},
   "source": [
    "## Strings\n",
    "- letters or numbers contained in double or single quotes\n",
    "- if we start a string with double quotes, we need to end with double quotes\n",
    "- if we start w single quotes, end with single quotes\n",
    "- if we need a string that contains characters including \"'\" we use 3 quation marks"
   ]
  },
  {
   "cell_type": "code",
   "execution_count": 38,
   "id": "41a3481a",
   "metadata": {},
   "outputs": [
    {
     "data": {
      "text/plain": [
       "\"It's been great to program Python with yall\""
      ]
     },
     "execution_count": 38,
     "metadata": {},
     "output_type": "execute_result"
    }
   ],
   "source": [
    "message = \"It's been great to program Python with yall\"\n",
    "message"
   ]
  },
  {
   "cell_type": "code",
   "execution_count": 2,
   "id": "37786288",
   "metadata": {},
   "outputs": [],
   "source": [
    "# Use triple quotes for docstring\n",
    "def is_even(n): \n",
    "    '''returns a boolean if the input is an even number'''\n",
    "    return n % 2 == 0"
   ]
  },
  {
   "cell_type": "code",
   "execution_count": 3,
   "id": "87607bd3",
   "metadata": {},
   "outputs": [],
   "source": [
    "is_even?"
   ]
  },
  {
   "cell_type": "code",
   "execution_count": 47,
   "id": "08600498",
   "metadata": {},
   "outputs": [],
   "source": [
    "len?"
   ]
  },
  {
   "cell_type": "code",
   "execution_count": 48,
   "id": "d417dfd5",
   "metadata": {},
   "outputs": [
    {
     "data": {
      "text/plain": [
       "5"
      ]
     },
     "execution_count": 48,
     "metadata": {},
     "output_type": "execute_result"
    }
   ],
   "source": [
    "len(\"Hello\")"
   ]
  },
  {
   "cell_type": "code",
   "execution_count": 4,
   "id": "4ee54275",
   "metadata": {},
   "outputs": [],
   "source": [
    "print?"
   ]
  },
  {
   "cell_type": "markdown",
   "id": "857eee30",
   "metadata": {},
   "source": [
    "# String Operations"
   ]
  },
  {
   "cell_type": "code",
   "execution_count": 9,
   "id": "04157bf4",
   "metadata": {},
   "outputs": [
    {
     "data": {
      "text/plain": [
       "False"
      ]
     },
     "execution_count": 9,
     "metadata": {},
     "output_type": "execute_result"
    }
   ],
   "source": [
    "'Adam' == 'Gomez'"
   ]
  },
  {
   "cell_type": "code",
   "execution_count": 11,
   "id": "b2403994",
   "metadata": {},
   "outputs": [
    {
     "data": {
      "text/plain": [
       "True"
      ]
     },
     "execution_count": 11,
     "metadata": {},
     "output_type": "execute_result"
    }
   ],
   "source": [
    "'Adam' == 'Adam'"
   ]
  },
  {
   "cell_type": "code",
   "execution_count": 12,
   "id": "61572d01",
   "metadata": {},
   "outputs": [
    {
     "data": {
      "text/plain": [
       "True"
      ]
     },
     "execution_count": 12,
     "metadata": {},
     "output_type": "execute_result"
    }
   ],
   "source": [
    "'Adam' < 'Dave'"
   ]
  },
  {
   "cell_type": "code",
   "execution_count": 13,
   "id": "959ecfbd",
   "metadata": {},
   "outputs": [
    {
     "data": {
      "text/plain": [
       "'adam gomez'"
      ]
     },
     "execution_count": 13,
     "metadata": {},
     "output_type": "execute_result"
    }
   ],
   "source": [
    "'adam' + ' ' + 'gomez'"
   ]
  },
  {
   "cell_type": "code",
   "execution_count": 15,
   "id": "6d1c12f2",
   "metadata": {},
   "outputs": [
    {
     "data": {
      "text/plain": [
       "'abcabcabc'"
      ]
     },
     "execution_count": 15,
     "metadata": {},
     "output_type": "execute_result"
    }
   ],
   "source": [
    "'abc' * 3"
   ]
  },
  {
   "cell_type": "code",
   "execution_count": 16,
   "id": "3dfa10d7",
   "metadata": {},
   "outputs": [
    {
     "data": {
      "text/plain": [
       "'21'"
      ]
     },
     "execution_count": 16,
     "metadata": {},
     "output_type": "execute_result"
    }
   ],
   "source": [
    "'2' + str(1)"
   ]
  },
  {
   "cell_type": "code",
   "execution_count": 18,
   "id": "f4aa2bd5",
   "metadata": {},
   "outputs": [
    {
     "data": {
      "text/plain": [
       "3"
      ]
     },
     "execution_count": 18,
     "metadata": {},
     "output_type": "execute_result"
    }
   ],
   "source": [
    "int('2') + 1"
   ]
  },
  {
   "cell_type": "markdown",
   "id": "d3d89b52",
   "metadata": {},
   "source": [
    "# String Formatting"
   ]
  },
  {
   "cell_type": "code",
   "execution_count": 25,
   "id": "41d37862",
   "metadata": {},
   "outputs": [],
   "source": [
    "name = \"World\""
   ]
  },
  {
   "cell_type": "code",
   "execution_count": 26,
   "id": "ccf59bb9",
   "metadata": {},
   "outputs": [
    {
     "data": {
      "text/plain": [
       "'Hello, World!'"
      ]
     },
     "execution_count": 26,
     "metadata": {},
     "output_type": "execute_result"
    }
   ],
   "source": [
    "\"Hello, %s!\" % name"
   ]
  },
  {
   "cell_type": "code",
   "execution_count": 29,
   "id": "88ba2757",
   "metadata": {},
   "outputs": [
    {
     "data": {
      "text/plain": [
       "'Hello, World!'"
      ]
     },
     "execution_count": 29,
     "metadata": {},
     "output_type": "execute_result"
    }
   ],
   "source": [
    "'Hello, {}!'.format(name)"
   ]
  },
  {
   "cell_type": "code",
   "execution_count": 30,
   "id": "d44280d6",
   "metadata": {},
   "outputs": [
    {
     "data": {
      "text/plain": [
       "'Hello World!'"
      ]
     },
     "execution_count": 30,
     "metadata": {},
     "output_type": "execute_result"
    }
   ],
   "source": [
    "f'Hello {name}!'"
   ]
  },
  {
   "cell_type": "code",
   "execution_count": 32,
   "id": "3f0d17c6",
   "metadata": {},
   "outputs": [],
   "source": [
    "number = 10"
   ]
  },
  {
   "cell_type": "code",
   "execution_count": 33,
   "id": "f98d2e61",
   "metadata": {},
   "outputs": [
    {
     "data": {
      "text/plain": [
       "'Hello 10'"
      ]
     },
     "execution_count": 33,
     "metadata": {},
     "output_type": "execute_result"
    }
   ],
   "source": [
    "f'Hello {str(number)}'"
   ]
  },
  {
   "cell_type": "markdown",
   "id": "c14d95e8",
   "metadata": {},
   "source": [
    "## String methods and indexing"
   ]
  },
  {
   "cell_type": "code",
   "execution_count": null,
   "id": "2efe8700",
   "metadata": {},
   "outputs": [],
   "source": [
    "# function is going to be listed first with () following \n",
    "# method is going to be listed last with .method"
   ]
  },
  {
   "cell_type": "code",
   "execution_count": 34,
   "id": "a6f75b98",
   "metadata": {},
   "outputs": [
    {
     "data": {
      "text/plain": [
       "'1'"
      ]
     },
     "execution_count": 34,
     "metadata": {},
     "output_type": "execute_result"
    }
   ],
   "source": [
    "# function\n",
    "str(1)"
   ]
  },
  {
   "cell_type": "code",
   "execution_count": 35,
   "id": "619a3443",
   "metadata": {},
   "outputs": [],
   "source": [
    "s = '     Hello,Codeup   '"
   ]
  },
  {
   "cell_type": "code",
   "execution_count": 36,
   "id": "097eb76a",
   "metadata": {},
   "outputs": [
    {
     "data": {
      "text/plain": [
       "'     hello,codeup   '"
      ]
     },
     "execution_count": 36,
     "metadata": {},
     "output_type": "execute_result"
    }
   ],
   "source": [
    "s.lower()"
   ]
  },
  {
   "cell_type": "code",
   "execution_count": 38,
   "id": "dfd958d2",
   "metadata": {},
   "outputs": [
    {
     "data": {
      "text/plain": [
       "'Hello,Codeup'"
      ]
     },
     "execution_count": 38,
     "metadata": {},
     "output_type": "execute_result"
    }
   ],
   "source": [
    "s.strip()"
   ]
  },
  {
   "cell_type": "code",
   "execution_count": 40,
   "id": "606fe502",
   "metadata": {},
   "outputs": [
    {
     "data": {
      "text/plain": [
       "False"
      ]
     },
     "execution_count": 40,
     "metadata": {},
     "output_type": "execute_result"
    }
   ],
   "source": [
    "s.isdigit()"
   ]
  },
  {
   "cell_type": "code",
   "execution_count": 41,
   "id": "19cf2b8f",
   "metadata": {},
   "outputs": [
    {
     "data": {
      "text/plain": [
       "True"
      ]
     },
     "execution_count": 41,
     "metadata": {},
     "output_type": "execute_result"
    }
   ],
   "source": [
    "'123'.isdigit()"
   ]
  },
  {
   "cell_type": "code",
   "execution_count": 42,
   "id": "5025453d",
   "metadata": {},
   "outputs": [
    {
     "data": {
      "text/plain": [
       "['Hello,Codeup']"
      ]
     },
     "execution_count": 42,
     "metadata": {},
     "output_type": "execute_result"
    }
   ],
   "source": [
    "s.strip().split(', ')"
   ]
  },
  {
   "cell_type": "code",
   "execution_count": 43,
   "id": "90e23143",
   "metadata": {},
   "outputs": [
    {
     "data": {
      "text/plain": [
       "'one, two, three'"
      ]
     },
     "execution_count": 43,
     "metadata": {},
     "output_type": "execute_result"
    }
   ],
   "source": [
    "(', ').join(['one', 'two', 'three'])"
   ]
  },
  {
   "cell_type": "code",
   "execution_count": 44,
   "id": "19b004a1",
   "metadata": {},
   "outputs": [],
   "source": [
    "# Lists and list operations"
   ]
  },
  {
   "cell_type": "code",
   "execution_count": 45,
   "id": "ac095aed",
   "metadata": {},
   "outputs": [
    {
     "data": {
      "text/plain": [
       "[1, 2, 3]"
      ]
     },
     "execution_count": 45,
     "metadata": {},
     "output_type": "execute_result"
    }
   ],
   "source": [
    "[1, 2, 3]"
   ]
  },
  {
   "cell_type": "code",
   "execution_count": 46,
   "id": "370582dc",
   "metadata": {},
   "outputs": [
    {
     "data": {
      "text/plain": [
       "[1, 'two', 3.125241]"
      ]
     },
     "execution_count": 46,
     "metadata": {},
     "output_type": "execute_result"
    }
   ],
   "source": [
    "[1, 'two', 3.125241]"
   ]
  },
  {
   "cell_type": "code",
   "execution_count": 47,
   "id": "a1513b06",
   "metadata": {},
   "outputs": [
    {
     "data": {
      "text/plain": [
       "[[1, 2, 3], [4, 5, 6], [7, 8, 9]]"
      ]
     },
     "execution_count": 47,
     "metadata": {},
     "output_type": "execute_result"
    }
   ],
   "source": [
    "[[1,2,3], [4,5,6], [7,8,9]]"
   ]
  },
  {
   "cell_type": "code",
   "execution_count": 48,
   "id": "96d6ac56",
   "metadata": {},
   "outputs": [
    {
     "data": {
      "text/plain": [
       "3"
      ]
     },
     "execution_count": 48,
     "metadata": {},
     "output_type": "execute_result"
    }
   ],
   "source": [
    "len([1,2,3])"
   ]
  },
  {
   "cell_type": "code",
   "execution_count": 49,
   "id": "9619118a",
   "metadata": {},
   "outputs": [
    {
     "data": {
      "text/plain": [
       "3"
      ]
     },
     "execution_count": 49,
     "metadata": {},
     "output_type": "execute_result"
    }
   ],
   "source": [
    "len([[1,2,3], [4,5,6], [7,8,9]])"
   ]
  },
  {
   "cell_type": "code",
   "execution_count": 51,
   "id": "6bcaee7e",
   "metadata": {},
   "outputs": [],
   "source": [
    "storage_box = []\n",
    "for each_number in (1,2,3,4,5,6,7):\n",
    "    storage_box.append('box')"
   ]
  },
  {
   "cell_type": "code",
   "execution_count": 52,
   "id": "483b0183",
   "metadata": {},
   "outputs": [
    {
     "data": {
      "text/plain": [
       "['box', 'box', 'box', 'box', 'box', 'box', 'box']"
      ]
     },
     "execution_count": 52,
     "metadata": {},
     "output_type": "execute_result"
    }
   ],
   "source": [
    "storage_box"
   ]
  },
  {
   "cell_type": "markdown",
   "id": "0d43fdc4",
   "metadata": {},
   "source": [
    "## List comprehensions"
   ]
  },
  {
   "cell_type": "code",
   "execution_count": 56,
   "id": "a73017ad",
   "metadata": {},
   "outputs": [],
   "source": [
    "storage_box2 = ['box' for each_number in range(7)]"
   ]
  },
  {
   "cell_type": "code",
   "execution_count": 57,
   "id": "4c058407",
   "metadata": {},
   "outputs": [
    {
     "data": {
      "text/plain": [
       "[0, 1, 2, 3, 4, 5, 6]"
      ]
     },
     "execution_count": 57,
     "metadata": {},
     "output_type": "execute_result"
    }
   ],
   "source": [
    "list(range(7))"
   ]
  },
  {
   "cell_type": "code",
   "execution_count": 58,
   "id": "d1b55234",
   "metadata": {},
   "outputs": [
    {
     "data": {
      "text/plain": [
       "['box', 'box', 'box', 'box', 'box', 'box', 'box']"
      ]
     },
     "execution_count": 58,
     "metadata": {},
     "output_type": "execute_result"
    }
   ],
   "source": [
    "storage_box2"
   ]
  },
  {
   "cell_type": "code",
   "execution_count": 59,
   "id": "f8f75f3e",
   "metadata": {},
   "outputs": [],
   "source": [
    "storage_box3 = ['box' for each_element in ['1', '2', 123, 1.245, 'string', ['1', 2], 0]]"
   ]
  },
  {
   "cell_type": "code",
   "execution_count": 60,
   "id": "225533d2",
   "metadata": {},
   "outputs": [
    {
     "data": {
      "text/plain": [
       "['box', 'box', 'box', 'box', 'box', 'box', 'box']"
      ]
     },
     "execution_count": 60,
     "metadata": {},
     "output_type": "execute_result"
    }
   ],
   "source": [
    "storage_box3"
   ]
  },
  {
   "cell_type": "code",
   "execution_count": 61,
   "id": "1beea13f",
   "metadata": {},
   "outputs": [],
   "source": [
    "storage_box4 = storage_box3 = ['box' for beans in ['1', '2', 123, 1.245, 'string', ['1', 2], 0]]"
   ]
  },
  {
   "cell_type": "code",
   "execution_count": 62,
   "id": "eab11363",
   "metadata": {},
   "outputs": [
    {
     "data": {
      "text/plain": [
       "['box', 'box', 'box', 'box', 'box', 'box', 'box']"
      ]
     },
     "execution_count": 62,
     "metadata": {},
     "output_type": "execute_result"
    }
   ],
   "source": [
    "storage_box4"
   ]
  },
  {
   "cell_type": "code",
   "execution_count": 63,
   "id": "3dddd7e8",
   "metadata": {},
   "outputs": [],
   "source": [
    "storage_box5 = ['box' for n in range(7)]"
   ]
  },
  {
   "cell_type": "code",
   "execution_count": 64,
   "id": "8544380a",
   "metadata": {},
   "outputs": [
    {
     "data": {
      "text/plain": [
       "['box', 'box', 'box', 'box', 'box', 'box', 'box']"
      ]
     },
     "execution_count": 64,
     "metadata": {},
     "output_type": "execute_result"
    }
   ],
   "source": [
    "storage_box5"
   ]
  },
  {
   "cell_type": "code",
   "execution_count": 66,
   "id": "41b256de",
   "metadata": {},
   "outputs": [],
   "source": [
    "storage_box5 = [n * 2 for n in range(7)]"
   ]
  },
  {
   "cell_type": "code",
   "execution_count": 67,
   "id": "80411e93",
   "metadata": {},
   "outputs": [
    {
     "data": {
      "text/plain": [
       "[0, 2, 4, 6, 8, 10, 12]"
      ]
     },
     "execution_count": 67,
     "metadata": {},
     "output_type": "execute_result"
    }
   ],
   "source": [
    "storage_box5"
   ]
  },
  {
   "cell_type": "code",
   "execution_count": 68,
   "id": "dac362c0",
   "metadata": {},
   "outputs": [],
   "source": [
    "storage_box6 = ['box' * 2 for n in range(7)]"
   ]
  },
  {
   "cell_type": "code",
   "execution_count": 69,
   "id": "34d3c893",
   "metadata": {},
   "outputs": [
    {
     "data": {
      "text/plain": [
       "['boxbox', 'boxbox', 'boxbox', 'boxbox', 'boxbox', 'boxbox', 'boxbox']"
      ]
     },
     "execution_count": 69,
     "metadata": {},
     "output_type": "execute_result"
    }
   ],
   "source": [
    "storage_box6"
   ]
  },
  {
   "cell_type": "code",
   "execution_count": 70,
   "id": "33098f43",
   "metadata": {},
   "outputs": [],
   "source": [
    "storage_box7 = [n * 2 for n in range(7) if n % 2 == 0]"
   ]
  },
  {
   "cell_type": "code",
   "execution_count": 71,
   "id": "18b48193",
   "metadata": {},
   "outputs": [
    {
     "data": {
      "text/plain": [
       "[0, 4, 8, 12]"
      ]
     },
     "execution_count": 71,
     "metadata": {},
     "output_type": "execute_result"
    }
   ],
   "source": [
    "storage_box7"
   ]
  },
  {
   "cell_type": "code",
   "execution_count": 72,
   "id": "8be37355",
   "metadata": {},
   "outputs": [],
   "source": [
    "storage_box8 =[n * 2 for n in range(7) if n % 2 == 1]"
   ]
  },
  {
   "cell_type": "code",
   "execution_count": 73,
   "id": "61ad1ee2",
   "metadata": {},
   "outputs": [
    {
     "data": {
      "text/plain": [
       "[2, 6, 10]"
      ]
     },
     "execution_count": 73,
     "metadata": {},
     "output_type": "execute_result"
    }
   ],
   "source": [
    "storage_box8"
   ]
  },
  {
   "cell_type": "code",
   "execution_count": 76,
   "id": "50ec09e0",
   "metadata": {},
   "outputs": [],
   "source": [
    "storage_box9 = [n * 2 for n in range(100) if (n % 2 == 0) and (n % 3 == 0)]"
   ]
  },
  {
   "cell_type": "code",
   "execution_count": 77,
   "id": "da1c3302",
   "metadata": {},
   "outputs": [
    {
     "data": {
      "text/plain": [
       "[0, 12, 24, 36, 48, 60, 72, 84, 96, 108, 120, 132, 144, 156, 168, 180, 192]"
      ]
     },
     "execution_count": 77,
     "metadata": {},
     "output_type": "execute_result"
    }
   ],
   "source": [
    "storage_box9"
   ]
  },
  {
   "cell_type": "markdown",
   "id": "97719382",
   "metadata": {},
   "source": [
    "## List Operations"
   ]
  },
  {
   "cell_type": "code",
   "execution_count": 82,
   "id": "4db84485",
   "metadata": {},
   "outputs": [],
   "source": [
    "numbers = [1, 2, 3]"
   ]
  },
  {
   "cell_type": "code",
   "execution_count": 83,
   "id": "e2c9745c",
   "metadata": {},
   "outputs": [
    {
     "data": {
      "text/plain": [
       "[1, 2, 3, 4]"
      ]
     },
     "execution_count": 83,
     "metadata": {},
     "output_type": "execute_result"
    }
   ],
   "source": [
    "numbers.append(4)\n",
    "numbers"
   ]
  },
  {
   "cell_type": "code",
   "execution_count": 84,
   "id": "acdc94fb",
   "metadata": {},
   "outputs": [
    {
     "data": {
      "text/plain": [
       "[1, 2, 3]"
      ]
     },
     "execution_count": 84,
     "metadata": {},
     "output_type": "execute_result"
    }
   ],
   "source": [
    "numbers.pop()\n",
    "numbers"
   ]
  },
  {
   "cell_type": "code",
   "execution_count": 85,
   "id": "5c7dfb8d",
   "metadata": {},
   "outputs": [
    {
     "data": {
      "text/plain": [
       "3"
      ]
     },
     "execution_count": 85,
     "metadata": {},
     "output_type": "execute_result"
    }
   ],
   "source": [
    "removed_element = numbers.pop()\n",
    "removed_element"
   ]
  },
  {
   "cell_type": "code",
   "execution_count": 86,
   "id": "d7921a20",
   "metadata": {},
   "outputs": [
    {
     "data": {
      "text/plain": [
       "[1, 2]"
      ]
     },
     "execution_count": 86,
     "metadata": {},
     "output_type": "execute_result"
    }
   ],
   "source": [
    "numbers"
   ]
  },
  {
   "cell_type": "code",
   "execution_count": 87,
   "id": "940fb3c3",
   "metadata": {},
   "outputs": [
    {
     "data": {
      "text/plain": [
       "2"
      ]
     },
     "execution_count": 87,
     "metadata": {},
     "output_type": "execute_result"
    }
   ],
   "source": [
    "len(numbers)"
   ]
  },
  {
   "cell_type": "markdown",
   "id": "04513a0e",
   "metadata": {},
   "source": [
    "# List Indexing"
   ]
  },
  {
   "cell_type": "code",
   "execution_count": 98,
   "id": "ea3e6ad9",
   "metadata": {},
   "outputs": [],
   "source": [
    "list_of_lists = [[['one', 'two', 'three'], 2, 3], [4, 5, 6], [7, 8, 9]]"
   ]
  },
  {
   "cell_type": "code",
   "execution_count": 94,
   "id": "fdb4d668",
   "metadata": {},
   "outputs": [
    {
     "name": "stdout",
     "output_type": "stream",
     "text": [
      "[[0, 0, 0], 2, 3]\n",
      "[4, 5, 6]\n",
      "[7, 8, 9]\n"
     ]
    }
   ],
   "source": [
    "print(list_of_lists[0])\n",
    "print(list_of_lists[1])\n",
    "print(list_of_lists[2])"
   ]
  },
  {
   "cell_type": "code",
   "execution_count": 95,
   "id": "2cbc9fbe",
   "metadata": {},
   "outputs": [
    {
     "name": "stdout",
     "output_type": "stream",
     "text": [
      "3\n"
     ]
    }
   ],
   "source": [
    "print(list_of_lists[0][2])"
   ]
  },
  {
   "cell_type": "code",
   "execution_count": 99,
   "id": "6bfc7466",
   "metadata": {},
   "outputs": [
    {
     "data": {
      "text/plain": [
       "['one', 'two', 'three']"
      ]
     },
     "execution_count": 99,
     "metadata": {},
     "output_type": "execute_result"
    }
   ],
   "source": [
    "list_of_lists[0][0]"
   ]
  },
  {
   "cell_type": "code",
   "execution_count": 100,
   "id": "347fd6ee",
   "metadata": {},
   "outputs": [
    {
     "data": {
      "text/plain": [
       "'two'"
      ]
     },
     "execution_count": 100,
     "metadata": {},
     "output_type": "execute_result"
    }
   ],
   "source": [
    "list_of_lists[0][0][1]"
   ]
  },
  {
   "cell_type": "code",
   "execution_count": 101,
   "id": "4f415c05",
   "metadata": {},
   "outputs": [
    {
     "data": {
      "text/plain": [
       "[[4, 5, 6], [7, 8, 9]]"
      ]
     },
     "execution_count": 101,
     "metadata": {},
     "output_type": "execute_result"
    }
   ],
   "source": [
    "list_of_lists[1:3]"
   ]
  },
  {
   "cell_type": "code",
   "execution_count": 102,
   "id": "54e5c20e",
   "metadata": {},
   "outputs": [
    {
     "data": {
      "text/plain": [
       "[[4, 5, 6], [7, 8, 9]]"
      ]
     },
     "execution_count": 102,
     "metadata": {},
     "output_type": "execute_result"
    }
   ],
   "source": [
    "list_of_lists[1:]"
   ]
  },
  {
   "cell_type": "code",
   "execution_count": 103,
   "id": "64407b61",
   "metadata": {},
   "outputs": [
    {
     "data": {
      "text/plain": [
       "[[['one', 'two', 'three'], 2, 3], [4, 5, 6]]"
      ]
     },
     "execution_count": 103,
     "metadata": {},
     "output_type": "execute_result"
    }
   ],
   "source": [
    "list_of_lists[:2]"
   ]
  },
  {
   "cell_type": "code",
   "execution_count": 104,
   "id": "854401aa",
   "metadata": {},
   "outputs": [
    {
     "data": {
      "text/plain": [
       "[[4, 5, 6]]"
      ]
     },
     "execution_count": 104,
     "metadata": {},
     "output_type": "execute_result"
    }
   ],
   "source": [
    "list_of_lists[1:2]"
   ]
  },
  {
   "cell_type": "code",
   "execution_count": 105,
   "id": "e1154ac8",
   "metadata": {},
   "outputs": [],
   "source": [
    "string_example = 'abcdefg'"
   ]
  },
  {
   "cell_type": "code",
   "execution_count": 106,
   "id": "b87c6a47",
   "metadata": {},
   "outputs": [
    {
     "data": {
      "text/plain": [
       "'a'"
      ]
     },
     "execution_count": 106,
     "metadata": {},
     "output_type": "execute_result"
    }
   ],
   "source": [
    "string_example[0]"
   ]
  },
  {
   "cell_type": "code",
   "execution_count": 107,
   "id": "7981cf4b",
   "metadata": {},
   "outputs": [
    {
     "data": {
      "text/plain": [
       "'defg'"
      ]
     },
     "execution_count": 107,
     "metadata": {},
     "output_type": "execute_result"
    }
   ],
   "source": [
    "string_example[3:]"
   ]
  },
  {
   "cell_type": "code",
   "execution_count": 108,
   "id": "2937fc23",
   "metadata": {},
   "outputs": [
    {
     "data": {
      "text/plain": [
       "'g'"
      ]
     },
     "execution_count": 108,
     "metadata": {},
     "output_type": "execute_result"
    }
   ],
   "source": [
    "string_example[-1]"
   ]
  },
  {
   "cell_type": "code",
   "execution_count": 110,
   "id": "89965601",
   "metadata": {},
   "outputs": [
    {
     "data": {
      "text/plain": [
       "[[['one', 'two', 'three'], 2, 3], [4, 5, 6], [7, 8, 9]]"
      ]
     },
     "execution_count": 110,
     "metadata": {},
     "output_type": "execute_result"
    }
   ],
   "source": [
    "list_of_lists"
   ]
  },
  {
   "cell_type": "code",
   "execution_count": 111,
   "id": "3f486a22",
   "metadata": {},
   "outputs": [
    {
     "data": {
      "text/plain": [
       "[['one', 'two', 'three'], 2, 3]"
      ]
     },
     "execution_count": 111,
     "metadata": {},
     "output_type": "execute_result"
    }
   ],
   "source": [
    "list_of_lists[0]"
   ]
  },
  {
   "cell_type": "code",
   "execution_count": 112,
   "id": "d0219e47",
   "metadata": {},
   "outputs": [
    {
     "data": {
      "text/plain": [
       "[2, 3]"
      ]
     },
     "execution_count": 112,
     "metadata": {},
     "output_type": "execute_result"
    }
   ],
   "source": [
    "list_of_lists[0][1:]"
   ]
  },
  {
   "cell_type": "markdown",
   "id": "b1202bc7",
   "metadata": {},
   "source": [
    "# Converting to a list"
   ]
  },
  {
   "cell_type": "code",
   "execution_count": 113,
   "id": "792254e6",
   "metadata": {},
   "outputs": [
    {
     "data": {
      "text/plain": [
       "range(0, 7)"
      ]
     },
     "execution_count": 113,
     "metadata": {},
     "output_type": "execute_result"
    }
   ],
   "source": [
    "range(7)"
   ]
  },
  {
   "cell_type": "code",
   "execution_count": 114,
   "id": "439e44cb",
   "metadata": {},
   "outputs": [
    {
     "data": {
      "text/plain": [
       "range"
      ]
     },
     "execution_count": 114,
     "metadata": {},
     "output_type": "execute_result"
    }
   ],
   "source": [
    "type(range(7))"
   ]
  },
  {
   "cell_type": "code",
   "execution_count": 115,
   "id": "ffd7f706",
   "metadata": {},
   "outputs": [
    {
     "data": {
      "text/plain": [
       "7"
      ]
     },
     "execution_count": 115,
     "metadata": {},
     "output_type": "execute_result"
    }
   ],
   "source": [
    "len(range(7))"
   ]
  },
  {
   "cell_type": "code",
   "execution_count": 117,
   "id": "2d502730",
   "metadata": {},
   "outputs": [
    {
     "data": {
      "text/plain": [
       "[0, 1, 2, 3, 4, 5, 6]"
      ]
     },
     "execution_count": 117,
     "metadata": {},
     "output_type": "execute_result"
    }
   ],
   "source": [
    "list(range(7))"
   ]
  },
  {
   "cell_type": "code",
   "execution_count": 118,
   "id": "0859d206",
   "metadata": {},
   "outputs": [
    {
     "data": {
      "text/plain": [
       "['a', 'b', 'c', 'd', 'e']"
      ]
     },
     "execution_count": 118,
     "metadata": {},
     "output_type": "execute_result"
    }
   ],
   "source": [
    "list('abcde')"
   ]
  },
  {
   "cell_type": "code",
   "execution_count": 119,
   "id": "97175558",
   "metadata": {},
   "outputs": [
    {
     "data": {
      "text/plain": [
       "list"
      ]
     },
     "execution_count": 119,
     "metadata": {},
     "output_type": "execute_result"
    }
   ],
   "source": [
    "type(list('abcde'))"
   ]
  },
  {
   "cell_type": "code",
   "execution_count": 120,
   "id": "6a2d7c4e",
   "metadata": {},
   "outputs": [
    {
     "data": {
      "text/plain": [
       "range(15, -3, -2)"
      ]
     },
     "execution_count": 120,
     "metadata": {},
     "output_type": "execute_result"
    }
   ],
   "source": [
    "range(15, -3, -2)"
   ]
  },
  {
   "cell_type": "code",
   "execution_count": 121,
   "id": "f1e8fccd",
   "metadata": {},
   "outputs": [
    {
     "data": {
      "text/plain": [
       "[15, 13, 11, 9, 7, 5, 3, 1, -1]"
      ]
     },
     "execution_count": 121,
     "metadata": {},
     "output_type": "execute_result"
    }
   ],
   "source": [
    "list(range(15, -3, -2))"
   ]
  },
  {
   "cell_type": "code",
   "execution_count": 122,
   "id": "3edb21c8",
   "metadata": {},
   "outputs": [
    {
     "data": {
      "text/plain": [
       "range(0, 1000000)"
      ]
     },
     "execution_count": 122,
     "metadata": {},
     "output_type": "execute_result"
    }
   ],
   "source": [
    "range(100*100*100)"
   ]
  },
  {
   "cell_type": "code",
   "execution_count": 123,
   "id": "2f20de68",
   "metadata": {},
   "outputs": [
    {
     "data": {
      "text/plain": [
       "['1', '2', '3']"
      ]
     },
     "execution_count": 123,
     "metadata": {},
     "output_type": "execute_result"
    }
   ],
   "source": [
    "list(map(str, [1, 2, 3]))"
   ]
  },
  {
   "cell_type": "code",
   "execution_count": 125,
   "id": "6f8406b7",
   "metadata": {},
   "outputs": [
    {
     "data": {
      "text/plain": [
       "<map at 0x7fb8c0504df0>"
      ]
     },
     "execution_count": 125,
     "metadata": {},
     "output_type": "execute_result"
    }
   ],
   "source": [
    "map(str, [1, 2, 3])"
   ]
  },
  {
   "cell_type": "markdown",
   "id": "cce396bc",
   "metadata": {},
   "source": [
    "# Tuples are lists that don't change"
   ]
  },
  {
   "cell_type": "code",
   "execution_count": 126,
   "id": "0842e548",
   "metadata": {},
   "outputs": [],
   "source": [
    "my_tuple = (1, 2, 3)"
   ]
  },
  {
   "cell_type": "code",
   "execution_count": 127,
   "id": "eb07d477",
   "metadata": {},
   "outputs": [
    {
     "data": {
      "text/plain": [
       "(1, 2, 3)"
      ]
     },
     "execution_count": 127,
     "metadata": {},
     "output_type": "execute_result"
    }
   ],
   "source": [
    "my_tuple"
   ]
  },
  {
   "cell_type": "code",
   "execution_count": 128,
   "id": "5ad0acd2",
   "metadata": {},
   "outputs": [
    {
     "data": {
      "text/plain": [
       "(3,)"
      ]
     },
     "execution_count": 128,
     "metadata": {},
     "output_type": "execute_result"
    }
   ],
   "source": [
    "my_tuple[2:]"
   ]
  },
  {
   "cell_type": "code",
   "execution_count": 130,
   "id": "06f92007",
   "metadata": {},
   "outputs": [],
   "source": [
    "my_tuple = (2, 3, 4)"
   ]
  },
  {
   "cell_type": "code",
   "execution_count": 131,
   "id": "7f4f935f",
   "metadata": {},
   "outputs": [
    {
     "data": {
      "text/plain": [
       "(2, 3, 4)"
      ]
     },
     "execution_count": 131,
     "metadata": {},
     "output_type": "execute_result"
    }
   ],
   "source": [
    "my_tuple"
   ]
  },
  {
   "cell_type": "markdown",
   "id": "a3774b12",
   "metadata": {},
   "source": [
    "## Dictionaries"
   ]
  },
  {
   "cell_type": "code",
   "execution_count": 136,
   "id": "54d46abf",
   "metadata": {},
   "outputs": [],
   "source": [
    "my_dict = {'users' : ['Bob', 'Adam', 'Sally', 'Jen', 'Mike'], 'roles': ['Admin', 'Reviewer', 'Commentator']}"
   ]
  },
  {
   "cell_type": "code",
   "execution_count": 137,
   "id": "82b838dd",
   "metadata": {},
   "outputs": [
    {
     "data": {
      "text/plain": [
       "2"
      ]
     },
     "execution_count": 137,
     "metadata": {},
     "output_type": "execute_result"
    }
   ],
   "source": [
    "len(my_dict)"
   ]
  },
  {
   "cell_type": "code",
   "execution_count": 139,
   "id": "d4ff9ed9",
   "metadata": {},
   "outputs": [
    {
     "data": {
      "text/plain": [
       "['Bob', 'Adam', 'Sally', 'Jen', 'Mike']"
      ]
     },
     "execution_count": 139,
     "metadata": {},
     "output_type": "execute_result"
    }
   ],
   "source": [
    "my_dict['users']"
   ]
  },
  {
   "cell_type": "code",
   "execution_count": 140,
   "id": "4e865e10",
   "metadata": {},
   "outputs": [
    {
     "data": {
      "text/plain": [
       "['Admin', 'Reviewer', 'Commentator']"
      ]
     },
     "execution_count": 140,
     "metadata": {},
     "output_type": "execute_result"
    }
   ],
   "source": [
    "my_dict['roles']"
   ]
  },
  {
   "cell_type": "code",
   "execution_count": 141,
   "id": "299f6f62",
   "metadata": {},
   "outputs": [],
   "source": [
    "my_dict2 = {'name': 'Codeup', 'age': 4}"
   ]
  },
  {
   "cell_type": "code",
   "execution_count": 142,
   "id": "9f127519",
   "metadata": {},
   "outputs": [
    {
     "data": {
      "text/plain": [
       "'Codeup'"
      ]
     },
     "execution_count": 142,
     "metadata": {},
     "output_type": "execute_result"
    }
   ],
   "source": [
    "my_dict2['name']"
   ]
  },
  {
   "cell_type": "code",
   "execution_count": 143,
   "id": "d74e9872",
   "metadata": {},
   "outputs": [
    {
     "data": {
      "text/plain": [
       "'Codeup is cool'"
      ]
     },
     "execution_count": 143,
     "metadata": {},
     "output_type": "execute_result"
    }
   ],
   "source": [
    "my_dict2['name'] + ' is cool'"
   ]
  },
  {
   "cell_type": "code",
   "execution_count": 144,
   "id": "d1d168fa",
   "metadata": {},
   "outputs": [
    {
     "data": {
      "text/plain": [
       "{'name': 'Codeup', 'age': 4}"
      ]
     },
     "execution_count": 144,
     "metadata": {},
     "output_type": "execute_result"
    }
   ],
   "source": [
    "my_dict2"
   ]
  },
  {
   "cell_type": "code",
   "execution_count": 145,
   "id": "42290747",
   "metadata": {},
   "outputs": [
    {
     "data": {
      "text/plain": [
       "4"
      ]
     },
     "execution_count": 145,
     "metadata": {},
     "output_type": "execute_result"
    }
   ],
   "source": [
    "my_dict2['age']"
   ]
  },
  {
   "cell_type": "code",
   "execution_count": 147,
   "id": "b6cee01b",
   "metadata": {},
   "outputs": [],
   "source": [
    "my_dict2['age'] = 'five'"
   ]
  },
  {
   "cell_type": "code",
   "execution_count": 148,
   "id": "21e00dc7",
   "metadata": {},
   "outputs": [
    {
     "data": {
      "text/plain": [
       "{'name': 'Codeup', 'age': 'five'}"
      ]
     },
     "execution_count": 148,
     "metadata": {},
     "output_type": "execute_result"
    }
   ],
   "source": [
    "my_dict2"
   ]
  },
  {
   "cell_type": "markdown",
   "id": "dae2f99b",
   "metadata": {},
   "source": [
    "# Conditionals:\n",
    "\n",
    "# if this then that"
   ]
  },
  {
   "cell_type": "code",
   "execution_count": 1,
   "id": "f9d3d860",
   "metadata": {},
   "outputs": [],
   "source": [
    "# if some condition is true:\n",
    "    #execute this code"
   ]
  },
  {
   "cell_type": "code",
   "execution_count": 8,
   "id": "67459d68",
   "metadata": {},
   "outputs": [
    {
     "name": "stdout",
     "output_type": "stream",
     "text": [
      "The number is even\n",
      "Complete\n"
     ]
    }
   ],
   "source": [
    "x = 6\n",
    "\n",
    "r = x % 2\n",
    "\n",
    "if r == 0:\n",
    "    print('The number is even')\n",
    "else:\n",
    "    print('The number is odd')\n",
    "    \n",
    "print('Complete')"
   ]
  },
  {
   "cell_type": "code",
   "execution_count": 13,
   "id": "9b98e2cd",
   "metadata": {},
   "outputs": [
    {
     "name": "stdout",
     "output_type": "stream",
     "text": [
      "ONE\n"
     ]
    }
   ],
   "source": [
    "# Example:\n",
    "# 1 == > ONE\n",
    "# 2 --> TWO\n",
    "# 3 ==> THREE\n",
    "# >4 --> Huraay!\n",
    "\n",
    "x = 1\n",
    "\n",
    "if x == 1:\n",
    "    print('ONE')\n",
    "elif x == 2:\n",
    "    print('TWO')\n",
    "elif x == 3:\n",
    "    print('THREE')\n",
    "else:\n",
    "    print('Hurray!')"
   ]
  },
  {
   "cell_type": "markdown",
   "id": "112f9828",
   "metadata": {},
   "source": [
    "# Loops\n",
    "-for: for running a block of code a set number of times\n",
    "-while: for running a block of code until a condition is met"
   ]
  },
  {
   "cell_type": "code",
   "execution_count": 14,
   "id": "92f1f071",
   "metadata": {},
   "outputs": [
    {
     "name": "stdout",
     "output_type": "stream",
     "text": [
      "1\n",
      "2\n",
      "3\n",
      "4\n",
      "5\n",
      "6\n"
     ]
    }
   ],
   "source": [
    "l = [1,2,3,4,5,6]\n",
    "\n",
    "for num in l:\n",
    "    #execute this code\n",
    "    print(num)"
   ]
  },
  {
   "cell_type": "code",
   "execution_count": 18,
   "id": "3410362d",
   "metadata": {},
   "outputs": [],
   "source": [
    "l = []\n",
    "for num in range(1,11):\n",
    "    if num % 2 == 0:\n",
    "        l.append(num **2)"
   ]
  },
  {
   "cell_type": "code",
   "execution_count": 19,
   "id": "f9798985",
   "metadata": {},
   "outputs": [
    {
     "data": {
      "text/plain": [
       "[4, 16, 36, 64, 100]"
      ]
     },
     "execution_count": 19,
     "metadata": {},
     "output_type": "execute_result"
    }
   ],
   "source": [
    "l"
   ]
  },
  {
   "cell_type": "code",
   "execution_count": 21,
   "id": "7b680cd6",
   "metadata": {},
   "outputs": [
    {
     "data": {
      "text/plain": [
       "[4, 16, 36, 64, 100]"
      ]
     },
     "execution_count": 21,
     "metadata": {},
     "output_type": "execute_result"
    }
   ],
   "source": [
    "# Same output with list comprehension\n",
    "[num ** 2 for num in range(1,11) if num % 2 == 0]"
   ]
  },
  {
   "cell_type": "markdown",
   "id": "433f077b",
   "metadata": {},
   "source": [
    "# While\n",
    "The while loop will execute it's body until the condition evaluates to false"
   ]
  },
  {
   "cell_type": "code",
   "execution_count": null,
   "id": "8dea2690",
   "metadata": {},
   "outputs": [],
   "source": [
    "# While (some conditions is True:)\n",
    "    # Keep doing this"
   ]
  },
  {
   "cell_type": "code",
   "execution_count": 7,
   "id": "14a149ed",
   "metadata": {},
   "outputs": [
    {
     "name": "stdout",
     "output_type": "stream",
     "text": [
      "1\n",
      "2\n",
      "3\n",
      "4\n",
      "5\n",
      "6\n",
      "7\n",
      "8\n",
      "9\n"
     ]
    }
   ],
   "source": [
    "i = 1\n",
    "\n",
    "while i < 10:\n",
    "    print(i)\n",
    "    i = i + 1"
   ]
  },
  {
   "cell_type": "markdown",
   "id": "1550bd6c",
   "metadata": {},
   "source": [
    "# Break\n",
    "- break will stop executing the loop entirely"
   ]
  },
  {
   "cell_type": "code",
   "execution_count": 1,
   "id": "35557e07",
   "metadata": {},
   "outputs": [
    {
     "name": "stdout",
     "output_type": "stream",
     "text": [
      "1\n",
      "2\n",
      "3\n",
      "4\n",
      "5\n",
      "6\n",
      "7\n",
      "8\n",
      "9\n",
      "10\n",
      "11\n",
      "12\n",
      "13\n",
      "14\n",
      "15\n",
      "16\n"
     ]
    }
   ],
   "source": [
    "for num in range(1,20):\n",
    "    print(num)\n",
    "    if num > 15:\n",
    "        break"
   ]
  },
  {
   "cell_type": "code",
   "execution_count": 5,
   "id": "2a3213e2",
   "metadata": {},
   "outputs": [
    {
     "name": "stdout",
     "output_type": "stream",
     "text": [
      "1 Here is your candy\n",
      "2 Here is your candy\n",
      "3 Here is your candy\n",
      "4 Here is your candy\n",
      "5 Here is your candy\n",
      "6 Here is your candy\n",
      "7 Here is your candy\n",
      "Sorry, out of candies\n"
     ]
    }
   ],
   "source": [
    "user_input = 12\n",
    "i = 1\n",
    "available_candies = 7\n",
    "\n",
    "while i <= user_input:\n",
    "    \n",
    "    if i > available_candies:\n",
    "        print('Sorry, out of candies')\n",
    "        break\n",
    "    print(i, 'Here is your candy')\n",
    "    i = i + 1"
   ]
  },
  {
   "cell_type": "markdown",
   "id": "6e602f12",
   "metadata": {},
   "source": [
    "# Continue\n",
    "- Continue will skip to the next iteration of a loop"
   ]
  },
  {
   "cell_type": "code",
   "execution_count": 6,
   "id": "53088e9f",
   "metadata": {},
   "outputs": [
    {
     "name": "stdout",
     "output_type": "stream",
     "text": [
      "1 here is an odd number\n",
      "15 here is an odd number\n",
      "17 here is an odd number\n"
     ]
    }
   ],
   "source": [
    "# print only odd numbers:\n",
    "\n",
    "l = [1,2,4,6,2,12,44,15,17]\n",
    "\n",
    "for num in l:\n",
    "    if num % 2 == 0:\n",
    "        continue\n",
    "    print(num,\"here is an odd number\")"
   ]
  },
  {
   "cell_type": "code",
   "execution_count": null,
   "id": "7b435d52",
   "metadata": {},
   "outputs": [],
   "source": []
  }
 ],
 "metadata": {
  "kernelspec": {
   "display_name": "Python 3 (ipykernel)",
   "language": "python",
   "name": "python3"
  },
  "language_info": {
   "codemirror_mode": {
    "name": "ipython",
    "version": 3
   },
   "file_extension": ".py",
   "mimetype": "text/x-python",
   "name": "python",
   "nbconvert_exporter": "python",
   "pygments_lexer": "ipython3",
   "version": "3.9.7"
  }
 },
 "nbformat": 4,
 "nbformat_minor": 5
}
