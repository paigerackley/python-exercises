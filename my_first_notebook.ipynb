{
 "cells": [
  {
   "cell_type": "markdown",
   "id": "ce7d29f1",
   "metadata": {},
   "source": [
    "# Markdown"
   ]
  },
  {
   "cell_type": "code",
   "execution_count": 2,
   "id": "894b71db",
   "metadata": {},
   "outputs": [
    {
     "name": "stdout",
     "output_type": "stream",
     "text": [
      "Hi Everybody!\n"
     ]
    }
   ],
   "source": [
    "greeting = 'Hi Everybody!'\n",
    "print(greeting)"
   ]
  },
  {
   "cell_type": "code",
   "execution_count": 1,
   "id": "34a47895",
   "metadata": {},
   "outputs": [
    {
     "data": {
      "text/plain": [
       "15"
      ]
     },
     "execution_count": 1,
     "metadata": {},
     "output_type": "execute_result"
    }
   ],
   "source": [
    "3 * 5"
   ]
  },
  {
   "cell_type": "code",
   "execution_count": null,
   "id": "028ab5f9",
   "metadata": {},
   "outputs": [],
   "source": [
    "# Parentheses mean were running a function"
   ]
  },
  {
   "cell_type": "code",
   "execution_count": 1,
   "id": "a27e01a9",
   "metadata": {},
   "outputs": [
    {
     "data": {
      "text/plain": [
       "['John', 'Paul', 'George', 'Ringo']"
      ]
     },
     "execution_count": 1,
     "metadata": {},
     "output_type": "execute_result"
    }
   ],
   "source": [
    "# List literal\n",
    "beatles = [\"John\", \"Paul\", \"George\", \"Ringo\"]\n",
    "beatles"
   ]
  },
  {
   "cell_type": "markdown",
   "id": "f49f15ad",
   "metadata": {},
   "source": [
    "# Variables\n",
    "- Whats the big idea?\n",
    "- Naming things is powerful\n",
    "- Variables point to values and can be re-pointed to other values\n",
    "\n",
    "- NEW valued variable = old value + something new\n",
    "- Example: \n"
   ]
  },
  {
   "cell_type": "code",
   "execution_count": 9,
   "id": "edad0561",
   "metadata": {},
   "outputs": [
    {
     "data": {
      "text/plain": [
       "7.98"
      ]
     },
     "execution_count": 9,
     "metadata": {},
     "output_type": "execute_result"
    }
   ],
   "source": [
    "total = 0\n",
    "total = total + 1.99\n",
    "total = total + 5.99\n",
    "total"
   ]
  },
  {
   "cell_type": "code",
   "execution_count": 10,
   "id": "99b2ec12",
   "metadata": {},
   "outputs": [
    {
     "data": {
      "text/plain": [
       "True"
      ]
     },
     "execution_count": 10,
     "metadata": {},
     "output_type": "execute_result"
    }
   ],
   "source": [
    "## Booleans (True/False)\n",
    "total < 20"
   ]
  },
  {
   "cell_type": "code",
   "execution_count": 11,
   "id": "9633d77b",
   "metadata": {},
   "outputs": [
    {
     "data": {
      "text/plain": [
       "True"
      ]
     },
     "execution_count": 11,
     "metadata": {},
     "output_type": "execute_result"
    }
   ],
   "source": [
    "# != is not equal to\n",
    "2 != 3"
   ]
  },
  {
   "cell_type": "code",
   "execution_count": 13,
   "id": "860ec2f8",
   "metadata": {},
   "outputs": [
    {
     "data": {
      "text/plain": [
       "True"
      ]
     },
     "execution_count": 13,
     "metadata": {},
     "output_type": "execute_result"
    }
   ],
   "source": [
    "# In operator checks membership of the value on the left\n",
    "# in the collection on the right\n",
    "# collection could be a string, list, tuple, ...\n",
    "2 in [1, 2, 3, 4]"
   ]
  },
  {
   "cell_type": "code",
   "execution_count": 15,
   "id": "9c418d7c",
   "metadata": {},
   "outputs": [
    {
     "data": {
      "text/plain": [
       "True"
      ]
     },
     "execution_count": 15,
     "metadata": {},
     "output_type": "execute_result"
    }
   ],
   "source": [
    "\"a\" in \"banana\""
   ]
  },
  {
   "cell_type": "markdown",
   "id": "e8dc9dfb",
   "metadata": {},
   "source": [
    "## Logical Operators\n",
    "- not: switches the boolean values of a value\n",
    "- and: making sure both pieces are true\n",
    "- or: making sure at least on pieces is true\n",
    "    \n"
   ]
  },
  {
   "cell_type": "code",
   "execution_count": 17,
   "id": "0a1de1dc",
   "metadata": {},
   "outputs": [],
   "source": [
    "doing_python_right_now = True\n",
    "currently_on_mars = False"
   ]
  },
  {
   "cell_type": "code",
   "execution_count": 18,
   "id": "6aa3f59a",
   "metadata": {},
   "outputs": [
    {
     "data": {
      "text/plain": [
       "False"
      ]
     },
     "execution_count": 18,
     "metadata": {},
     "output_type": "execute_result"
    }
   ],
   "source": [
    "# Ands are limiting\n",
    "doing_python_right_now and currently_on_mars"
   ]
  },
  {
   "cell_type": "code",
   "execution_count": 19,
   "id": "4f8f2f78",
   "metadata": {},
   "outputs": [
    {
     "data": {
      "text/plain": [
       "True"
      ]
     },
     "execution_count": 19,
     "metadata": {},
     "output_type": "execute_result"
    }
   ],
   "source": [
    "#ORS expand our possibilities\n",
    "doing_python_right_now or currently_on_mars"
   ]
  },
  {
   "cell_type": "code",
   "execution_count": 20,
   "id": "d78b6718",
   "metadata": {},
   "outputs": [],
   "source": [
    "# When we combione and,or, not, (but == and not)\n",
    "# We want to use parentheses to enforce execution order"
   ]
  },
  {
   "cell_type": "code",
   "execution_count": 23,
   "id": "aa686629",
   "metadata": {},
   "outputs": [
    {
     "data": {
      "text/plain": [
       "True"
      ]
     },
     "execution_count": 23,
     "metadata": {},
     "output_type": "execute_result"
    }
   ],
   "source": [
    "# A user can edit a post if they are logged in and either the admin\n",
    "# or author of that post\n",
    "is_logged_in = True\n",
    "is_admin = False\n",
    "is_author = True\n",
    "\n",
    "can_edit_post = is_logged_in and (is_admin or is_author)\n",
    "can_edit_post"
   ]
  },
  {
   "cell_type": "code",
   "execution_count": null,
   "id": "deccb5ea",
   "metadata": {},
   "outputs": [],
   "source": [
    "# Mathemaical Operators\n",
    "# T, -, *, /, **"
   ]
  },
  {
   "cell_type": "code",
   "execution_count": 24,
   "id": "b959fbd8",
   "metadata": {},
   "outputs": [
    {
     "data": {
      "text/plain": [
       "8"
      ]
     },
     "execution_count": 24,
     "metadata": {},
     "output_type": "execute_result"
    }
   ],
   "source": [
    "2 ** 3 # two raised to the 3rd power"
   ]
  },
  {
   "cell_type": "code",
   "execution_count": 25,
   "id": "1d90b967",
   "metadata": {},
   "outputs": [
    {
     "data": {
      "text/plain": [
       "4.0"
      ]
     },
     "execution_count": 25,
     "metadata": {},
     "output_type": "execute_result"
    }
   ],
   "source": [
    "12 / 3"
   ]
  },
  {
   "cell_type": "code",
   "execution_count": 27,
   "id": "dafef8ce",
   "metadata": {},
   "outputs": [
    {
     "data": {
      "text/plain": [
       "False"
      ]
     },
     "execution_count": 27,
     "metadata": {},
     "output_type": "execute_result"
    }
   ],
   "source": [
    "4 == 4.0000001"
   ]
  },
  {
   "cell_type": "code",
   "execution_count": 30,
   "id": "fe1404be",
   "metadata": {},
   "outputs": [
    {
     "data": {
      "text/plain": [
       "1"
      ]
     },
     "execution_count": 30,
     "metadata": {},
     "output_type": "execute_result"
    }
   ],
   "source": [
    "# Modulo Operator == remainder operator\n",
    "# 5 % 2 should read as five divded by 2 leaves what value?\n",
    "5 % 2"
   ]
  },
  {
   "cell_type": "code",
   "execution_count": 31,
   "id": "36ff0658",
   "metadata": {},
   "outputs": [
    {
     "data": {
      "text/plain": [
       "True"
      ]
     },
     "execution_count": 31,
     "metadata": {},
     "output_type": "execute_result"
    }
   ],
   "source": [
    "# first_name % second_number == has no remainder means:\n",
    "# the furstnumber is evenly divisible by the second number\n",
    "4 % 2 == 0"
   ]
  },
  {
   "cell_type": "code",
   "execution_count": 32,
   "id": "9fb8bf8a",
   "metadata": {},
   "outputs": [
    {
     "data": {
      "text/plain": [
       "1"
      ]
     },
     "execution_count": 32,
     "metadata": {},
     "output_type": "execute_result"
    }
   ],
   "source": [
    "## // quotient\n",
    "# two goes into 3 one full time\n",
    "3 // 2 "
   ]
  },
  {
   "cell_type": "code",
   "execution_count": 34,
   "id": "67f92f8f",
   "metadata": {},
   "outputs": [
    {
     "data": {
      "text/plain": [
       "1"
      ]
     },
     "execution_count": 34,
     "metadata": {},
     "output_type": "execute_result"
    }
   ],
   "source": [
    "# 3 divided by two leaves 1 as the remainder\n",
    "3 % 2"
   ]
  },
  {
   "cell_type": "code",
   "execution_count": 35,
   "id": "9e697f09",
   "metadata": {},
   "outputs": [
    {
     "data": {
      "text/plain": [
       "1.0"
      ]
     },
     "execution_count": 35,
     "metadata": {},
     "output_type": "execute_result"
    }
   ],
   "source": [
    "3.33 // 2"
   ]
  },
  {
   "cell_type": "markdown",
   "id": "cb1544a1",
   "metadata": {},
   "source": [
    "## Strings\n",
    "- letters or numbers contained in double or single quotes\n",
    "- if we start a string with double quotes, we need to end with double quotes\n",
    "- if we start w single quotes, end with single quotes\n",
    "- if we need a string that contains characters including \"'\" we use 3 quation marks"
   ]
  },
  {
   "cell_type": "code",
   "execution_count": 38,
   "id": "41a3481a",
   "metadata": {},
   "outputs": [
    {
     "data": {
      "text/plain": [
       "\"It's been great to program Python with yall\""
      ]
     },
     "execution_count": 38,
     "metadata": {},
     "output_type": "execute_result"
    }
   ],
   "source": [
    "message = \"It's been great to program Python with yall\"\n",
    "message"
   ]
  },
  {
   "cell_type": "code",
   "execution_count": 46,
   "id": "37786288",
   "metadata": {},
   "outputs": [],
   "source": [
    "# Use triple quotes for docstring\n",
    "def is_even(n): \n",
    "    '''returns a boolean if the input is an even number'''\n",
    "    return n % 2 == 0"
   ]
  },
  {
   "cell_type": "code",
   "execution_count": 45,
   "id": "87607bd3",
   "metadata": {},
   "outputs": [],
   "source": [
    "is_even?"
   ]
  },
  {
   "cell_type": "code",
   "execution_count": 47,
   "id": "08600498",
   "metadata": {},
   "outputs": [],
   "source": [
    "len?"
   ]
  },
  {
   "cell_type": "code",
   "execution_count": 48,
   "id": "d417dfd5",
   "metadata": {},
   "outputs": [
    {
     "data": {
      "text/plain": [
       "5"
      ]
     },
     "execution_count": 48,
     "metadata": {},
     "output_type": "execute_result"
    }
   ],
   "source": [
    "len(\"Hello\")"
   ]
  },
  {
   "cell_type": "code",
   "execution_count": 49,
   "id": "4ee54275",
   "metadata": {},
   "outputs": [],
   "source": [
    "print?"
   ]
  },
  {
   "cell_type": "markdown",
   "id": "c14d95e8",
   "metadata": {},
   "source": [
    "## String methods and indexing\n",
    "## List and list operations\n",
    "## Tuples are lists that don't change"
   ]
  }
 ],
 "metadata": {
  "kernelspec": {
   "display_name": "Python 3 (ipykernel)",
   "language": "python",
   "name": "python3"
  },
  "language_info": {
   "codemirror_mode": {
    "name": "ipython",
    "version": 3
   },
   "file_extension": ".py",
   "mimetype": "text/x-python",
   "name": "python",
   "nbconvert_exporter": "python",
   "pygments_lexer": "ipython3",
   "version": "3.9.7"
  }
 },
 "nbformat": 4,
 "nbformat_minor": 5
}
